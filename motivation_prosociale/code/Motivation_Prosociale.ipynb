{
 "cells": [
  {
   "cell_type": "markdown",
   "metadata": {},
   "source": [
    "<div class = \"alert alert-info\"> <h3 align = center>    Motivation prosociale des travailleurs  </h3>     </div>"
   ]
  },
  {
   "cell_type": "markdown",
   "metadata": {},
   "source": [
    "<font color = red> <u> Description des variables </u> </font>\n",
    "\n",
    "\n",
    "- ID : identification du travailleur\n",
    "- ENT_ID : identification de l'entreprise\n",
    "- TYPE_ENT : type d'entreprise (1 = entreprise sociale de services à domicile, 2 = entreprise sociale d'insertion, 3 = but lucratif)\n",
    "- ES : entreprise sociale (1 = oui)\n",
    "- MOTPROSOC0 : motivation prosociale du travailleur au temps 0 (entrée en fonction)\n",
    "- MOTPROSOC1 : motivation prosociale du travailleur au temps 1 (après huit mois de travail)\n",
    "- FEMME\n",
    "- HOMME\n",
    "- AGE\n",
    "- EDUCATION : niveau d'éducation (1= Primaire, 2= Secondaire inférieur, 3= Secondaire  supérieur, 4= Tertiaire non universitaire, 5= Universitaire)\n",
    "- NAT : nationalité\n",
    "- EXPEANTE : le travailleur possède une expérience antérieure (1 = oui)\n",
    "- NETTOYAGE : son travail consiste à effectuer du nettoyage à domicile (1 = oui)\n",
    "- PARTI : le travailleur a quitté l’entreprise avant la seconde enquête (1 = oui)"
   ]
  },
  {
   "cell_type": "markdown",
   "metadata": {},
   "source": [
    "<font color = red> <u> Analyse exploratoire des données </u> </font>\n"
   ]
  },
  {
   "cell_type": "code",
   "execution_count": 10,
   "metadata": {
    "collapsed": true,
    "jupyter": {
     "outputs_hidden": true
    }
   },
   "outputs": [
    {
     "name": "stderr",
     "output_type": "stream",
     "text": [
      "Warning message:\n",
      "\"package 'tidyverse' was built under R version 3.6.3\"-- Attaching packages --------------------------------------- tidyverse 1.3.0 --\n",
      "v ggplot2 3.3.2     v purrr   0.3.4\n",
      "v tibble  3.0.4     v dplyr   1.0.2\n",
      "v tidyr   1.1.2     v stringr 1.4.0\n",
      "v readr   1.3.1     v forcats 0.4.0\n",
      "Warning message:\n",
      "\"package 'ggplot2' was built under R version 3.6.3\"Warning message:\n",
      "\"package 'tibble' was built under R version 3.6.3\"Warning message:\n",
      "\"package 'tidyr' was built under R version 3.6.3\"Warning message:\n",
      "\"package 'purrr' was built under R version 3.6.3\"Warning message:\n",
      "\"package 'dplyr' was built under R version 3.6.3\"-- Conflicts ------------------------------------------ tidyverse_conflicts() --\n",
      "x dplyr::filter() masks stats::filter()\n",
      "x dplyr::lag()    masks stats::lag()\n"
     ]
    }
   ],
   "source": [
    "# Importation des packages\n",
    "library(tidyverse)"
   ]
  },
  {
   "cell_type": "code",
   "execution_count": 9,
   "metadata": {},
   "outputs": [],
   "source": [
    "# Importation des données \n",
    "\n",
    "motivation = read.table(\"data/motivation.txt\", sep = \"\\t\", head = T)\n",
    "motivation2 = read.table(\"data/motivation2.txt\", sep = \"\\t\", head = T)\n"
   ]
  },
  {
   "cell_type": "markdown",
   "metadata": {},
   "source": [
    "**- Exploration de la base de données motivation.txt**"
   ]
  },
  {
   "cell_type": "code",
   "execution_count": 11,
   "metadata": {},
   "outputs": [
    {
     "name": "stdout",
     "output_type": "stream",
     "text": [
      "Rows: 174\n",
      "Columns: 13\n",
      "$ ID         <int> 1, 2, 3, 4, 5, 6, 7, 8, 9, 10, 11, 12, 13, 14, 15, 16, 1...\n",
      "$ ENT_ID     <int> 1, 1, 21, 21, 21, 22, 22, 23, 23, 24, 24, 24, 25, 25, 25...\n",
      "$ TYPE_ENT   <int> 3, 3, 2, 2, 2, 2, 2, 2, 2, 2, 2, 2, 2, 2, 2, 2, 3, 3, 3,...\n",
      "$ ES         <int> 0, 0, 1, 1, 1, 1, 1, 1, 1, 1, 1, 1, 1, 1, 1, 1, 0, 0, 0,...\n",
      "$ MOTPROSOC0 <dbl> 6.333333, 5.000000, 7.000000, 4.666667, 7.000000, 4.0000...\n",
      "$ MOTPROSOC1 <dbl> 6.000000, 5.000000, 1.000000, 5.333333, 7.000000, 4.0000...\n",
      "$ FEMME      <int> 1, 1, 1, 1, 1, 1, 1, 1, 1, 1, 1, 1, 1, 1, 1, 1, 0, 1, 1,...\n",
      "$ HOMME      <int> 0, 0, 0, 0, 0, 0, 0, 0, 0, 0, 0, 0, 0, 0, 0, 0, 1, 0, 0,...\n",
      "$ AGE        <int> 37, 32, 48, 30, 46, 45, 26, 25, 22, 34, 23, 32, 43, 31, ...\n",
      "$ EDUCATION  <int> 4, 2, 3, 3, 2, 4, 3, 2, 1, 3, 2, 3, 3, 2, 3, 3, 3, 2, 2,...\n",
      "$ NAT        <fct> italie, belge, belge, belge, belge, belge, belge, belge,...\n",
      "$ EXPEANTE   <int> 0, 0, 1, 0, 0, 0, 0, 0, 0, 0, 0, 0, 1, 0, 1, 0, 1, 0, 0,...\n",
      "$ NETTOYAGE  <int> 1, 1, 1, 1, 1, 1, 1, 1, 1, 1, 1, 1, 1, 1, 1, 1, 1, 1, 1,...\n"
     ]
    }
   ],
   "source": [
    "# Apperçu de la base de donnée \n",
    "\n",
    "glimpse(motivation)"
   ]
  },
  {
   "cell_type": "code",
   "execution_count": 21,
   "metadata": {},
   "outputs": [
    {
     "data": {
      "text/html": [
       "47"
      ],
      "text/latex": [
       "47"
      ],
      "text/markdown": [
       "47"
      ],
      "text/plain": [
       "[1] 47"
      ]
     },
     "metadata": {},
     "output_type": "display_data"
    }
   ],
   "source": [
    "# Nombre d'entreprises différentes dans la base de donnée motivation.txt\n",
    "\n",
    "length(unique(motivation$ENT_ID))"
   ]
  },
  {
   "cell_type": "code",
   "execution_count": 23,
   "metadata": {},
   "outputs": [
    {
     "data": {
      "text/html": [
       "FALSE"
      ],
      "text/latex": [
       "FALSE"
      ],
      "text/markdown": [
       "FALSE"
      ],
      "text/plain": [
       "[1] FALSE"
      ]
     },
     "metadata": {},
     "output_type": "display_data"
    }
   ],
   "source": [
    "# Vérifions si la motivation prosociale moyenne des travaillleurs a augmentée aucours du temps\n",
    "\n",
    "mean(motivation$MOTPROSOC0) < mean(motivation$MOTPROSOC1) "
   ]
  },
  {
   "cell_type": "code",
   "execution_count": 26,
   "metadata": {},
   "outputs": [
    {
     "data": {
      "text/html": [
       "0.574468085106383"
      ],
      "text/latex": [
       "0.574468085106383"
      ],
      "text/markdown": [
       "0.574468085106383"
      ],
      "text/plain": [
       "[1] 0.5744681"
      ]
     },
     "metadata": {},
     "output_type": "display_data"
    }
   ],
   "source": [
    "# Proportion d'entreprise sociale dans la base de données\n",
    "\n",
    "length(unique(motivation$ENT_ID[motivation$ES == 1])) / length(unique(motivation$ENT_ID))"
   ]
  },
  {
   "cell_type": "code",
   "execution_count": 29,
   "metadata": {},
   "outputs": [
    {
     "data": {
      "text/html": [
       "0.632183908045977"
      ],
      "text/latex": [
       "0.632183908045977"
      ],
      "text/markdown": [
       "0.632183908045977"
      ],
      "text/plain": [
       "[1] 0.6321839"
      ]
     },
     "metadata": {},
     "output_type": "display_data"
    }
   ],
   "source": [
    "sum(motivation$ES)/dim(motivation)[1]"
   ]
  },
  {
   "cell_type": "code",
   "execution_count": 30,
   "metadata": {},
   "outputs": [
    {
     "data": {
      "text/html": [
       "0.191489361702128"
      ],
      "text/latex": [
       "0.191489361702128"
      ],
      "text/markdown": [
       "0.191489361702128"
      ],
      "text/plain": [
       "[1] 0.1914894"
      ]
     },
     "metadata": {},
     "output_type": "display_data"
    }
   ],
   "source": [
    "# Proportion d'entreprises sociales d'insertion\n",
    "\n",
    "length(unique(motivation$ENT_ID[motivation$TYPE_ENT == 2])) / length(unique(motivation$ENT_ID))"
   ]
  },
  {
   "cell_type": "code",
   "execution_count": 34,
   "metadata": {},
   "outputs": [
    {
     "data": {
      "text/html": [
       "0.252873563218391"
      ],
      "text/latex": [
       "0.252873563218391"
      ],
      "text/markdown": [
       "0.252873563218391"
      ],
      "text/plain": [
       "[1] 0.2528736"
      ]
     },
     "metadata": {},
     "output_type": "display_data"
    }
   ],
   "source": [
    "length(motivation$ENT_ID[motivation$TYPE_ENT == 2]) / dim(motivation)[1]"
   ]
  },
  {
   "cell_type": "code",
   "execution_count": 35,
   "metadata": {},
   "outputs": [
    {
     "data": {
      "text/html": [
       "0.977011494252874"
      ],
      "text/latex": [
       "0.977011494252874"
      ],
      "text/markdown": [
       "0.977011494252874"
      ],
      "text/plain": [
       "[1] 0.9770115"
      ]
     },
     "metadata": {},
     "output_type": "display_data"
    }
   ],
   "source": [
    "# Proportion de femmes dans l'échantillon\n",
    "\n",
    "sum(motivation$FEMME) / length(motivation$FEMME)"
   ]
  },
  {
   "cell_type": "code",
   "execution_count": 36,
   "metadata": {},
   "outputs": [
    {
     "data": {
      "text/html": [
       "5.87623640909091"
      ],
      "text/latex": [
       "5.87623640909091"
      ],
      "text/markdown": [
       "5.87623640909091"
      ],
      "text/plain": [
       "[1] 5.876236"
      ]
     },
     "metadata": {},
     "output_type": "display_data"
    }
   ],
   "source": [
    "# Moyenne de la motivation prosociale à l’embauche des travailleurs engagés dans une entreprise sociale\n",
    "\n",
    "mean(motivation$MOTPROSOC0[motivation$ES == 1])"
   ]
  },
  {
   "cell_type": "code",
   "execution_count": 37,
   "metadata": {},
   "outputs": [
    {
     "data": {
      "text/html": [
       "5.6174824"
      ],
      "text/latex": [
       "5.6174824"
      ],
      "text/markdown": [
       "5.6174824"
      ],
      "text/plain": [
       "[1] 5.617482"
      ]
     },
     "metadata": {},
     "output_type": "display_data"
    }
   ],
   "source": [
    "# Moyenne de la motivation prosociale après huit mois de travail \n",
    "# pour les travailleurs engagés dans une entreprise sociale \n",
    "\n",
    "mean(motivation$MOTPROSOC1[motivation$ES == 1])"
   ]
  },
  {
   "cell_type": "code",
   "execution_count": 38,
   "metadata": {},
   "outputs": [
    {
     "data": {
      "text/html": [
       "-0.258754009090909"
      ],
      "text/latex": [
       "-0.258754009090909"
      ],
      "text/markdown": [
       "-0.258754009090909"
      ],
      "text/plain": [
       "[1] -0.258754"
      ]
     },
     "metadata": {},
     "output_type": "display_data"
    }
   ],
   "source": [
    "# Différentiel, au bout de huit mois de travail, de la moyenne de la motivation \n",
    "# prosociale des travailleurs engagés dans une entreprise sociale\n",
    "\n",
    "mean(motivation$MOTPROSOC1[motivation$ES == 1]) - mean(motivation$MOTPROSOC0[motivation$ES == 1])"
   ]
  },
  {
   "cell_type": "code",
   "execution_count": 39,
   "metadata": {},
   "outputs": [
    {
     "data": {
      "text/html": [
       "-0.567708328125001"
      ],
      "text/latex": [
       "-0.567708328125001"
      ],
      "text/markdown": [
       "-0.567708328125001"
      ],
      "text/plain": [
       "[1] -0.5677083"
      ]
     },
     "metadata": {},
     "output_type": "display_data"
    }
   ],
   "source": [
    "# Différentiel, au bout de huit mois de travail, de la moyenne de la motivation \n",
    "# prosociale des travailleurs engagés dans une entreprise à but lucratif\n",
    "\n",
    "mean(motivation$MOTPROSOC1[motivation$TYPE_ENT == 3]) - mean(motivation$MOTPROSOC0[motivation$TYPE_ENT == 3])"
   ]
  },
  {
   "cell_type": "markdown",
   "metadata": {},
   "source": [
    "**- Exploration de la base de données motivation2.txt**"
   ]
  },
  {
   "cell_type": "code",
   "execution_count": 13,
   "metadata": {},
   "outputs": [
    {
     "name": "stdout",
     "output_type": "stream",
     "text": [
      "Rows: 217\n",
      "Columns: 12\n",
      "$ ENT_ID     <int> 1, 1, 2, 3, 3, 3, 3, 3, 4, 5, 5, 5, 5, 6, 7, 7, 7, 7, 7,...\n",
      "$ TYPE_ENT   <int> 3, 3, 3, 3, 3, 3, 3, 3, 3, 3, 3, 3, 3, 3, 3, 3, 3, 3, 3,...\n",
      "$ ES         <int> 0, 0, 0, 0, 0, 0, 0, 0, 0, 0, 0, 0, 0, 0, 0, 0, 0, 0, 0,...\n",
      "$ MOTPROSOC0 <dbl> 6.333333, 5.000000, 4.333333, 7.000000, 4.666667, 6.6666...\n",
      "$ FEMME      <int> 1, 1, 0, 1, 1, 1, 1, 1, 1, 1, 1, 1, 1, 1, 1, 1, 1, 1, 1,...\n",
      "$ HOMME      <int> 0, 0, 1, 0, 0, 0, 0, 0, 0, 0, 0, 0, 0, 0, 0, 0, 0, 0, 0,...\n",
      "$ AGE        <int> 37, 32, 25, 25, 44, 23, 53, 43, 37, 31, 21, 53, 37, 22, ...\n",
      "$ EDUCATION  <int> 4, 2, 3, 4, 2, 2, 2, 2, 4, 3, 3, 3, 2, 2, 4, 3, 2, 2, 3,...\n",
      "$ NAT        <fct> italie, belge, belge, belge, belge, belge, belge, belge,...\n",
      "$ NETTOYAGE  <int> 1, 1, 1, 1, 1, 1, 1, 1, 1, 1, 1, 1, 1, 1, 1, 0, 1, 1, 1,...\n",
      "$ EXPEANTE   <int> 0, 0, 0, 0, 0, 0, 0, 0, 0, 0, 0, 0, 0, 0, 0, 0, 0, 0, 0,...\n",
      "$ PARTI      <int> 0, 0, 0, 1, 0, 1, 0, 1, 0, 0, 0, 0, 0, 1, 0, 0, 0, 0, 0,...\n"
     ]
    }
   ],
   "source": [
    "glimpse(motivation2)"
   ]
  },
  {
   "cell_type": "code",
   "execution_count": 22,
   "metadata": {},
   "outputs": [
    {
     "data": {
      "text/html": [
       "53"
      ],
      "text/latex": [
       "53"
      ],
      "text/markdown": [
       "53"
      ],
      "text/plain": [
       "[1] 53"
      ]
     },
     "metadata": {},
     "output_type": "display_data"
    }
   ],
   "source": [
    "# Nombre d'entreprises différentes dans la base de donnée motivation2.txt\n",
    "\n",
    "length(unique(motivation2$ENT_ID))"
   ]
  },
  {
   "cell_type": "code",
   "execution_count": 40,
   "metadata": {},
   "outputs": [
    {
     "data": {
      "text/html": [
       "0.19815668202765"
      ],
      "text/latex": [
       "0.19815668202765"
      ],
      "text/markdown": [
       "0.19815668202765"
      ],
      "text/plain": [
       "[1] 0.1981567"
      ]
     },
     "metadata": {},
     "output_type": "display_data"
    }
   ],
   "source": [
    "# Proportion de travailleurs ayant quitté leur emploi entre la première et la deuxième enquête\n",
    "\n",
    "(dim(motivation2)[1] - dim(motivation)[1]) / (dim(motivation2)[1])"
   ]
  },
  {
   "cell_type": "code",
   "execution_count": 77,
   "metadata": {},
   "outputs": [
    {
     "data": {
      "text/html": [
       "5.82558139534884"
      ],
      "text/latex": [
       "5.82558139534884"
      ],
      "text/markdown": [
       "5.82558139534884"
      ],
      "text/plain": [
       "[1] 5.825581"
      ]
     },
     "metadata": {},
     "output_type": "display_data"
    }
   ],
   "source": [
    "# Moyenne de la motivation prosociale à l’embauche des travailleurs ayant quitté leur emploi \n",
    "# avant la deuxième enquête\n",
    "\n",
    "(sum(motivation2$MOTPROSOC0) - sum(motivation$MOTPROSOC0))/(dim(motivation2)[1] - dim(motivation)[1])"
   ]
  },
  {
   "cell_type": "code",
   "execution_count": null,
   "metadata": {},
   "outputs": [],
   "source": []
  },
  {
   "cell_type": "code",
   "execution_count": 70,
   "metadata": {},
   "outputs": [
    {
     "data": {
      "text/plain": [
       "\n",
       "Call:\n",
       "lm(formula = motivation$MOTPROSOC1 ~ motivation$ES)\n",
       "\n",
       "Residuals:\n",
       "    Min      1Q  Median      3Q     Max \n",
       "-4.6175 -0.6175  0.0492  0.7159  1.8385 \n",
       "\n",
       "Coefficients:\n",
       "              Estimate Std. Error t value Pr(>|t|)    \n",
       "(Intercept)     5.1615     0.1284  40.195  < 2e-16 ***\n",
       "motivation$ES   0.4560     0.1615   2.824  0.00531 ** \n",
       "---\n",
       "Signif. codes:  0 '***' 0.001 '**' 0.01 '*' 0.05 '.' 0.1 ' ' 1\n",
       "\n",
       "Residual standard error: 1.027 on 172 degrees of freedom\n",
       "Multiple R-squared:  0.0443,\tAdjusted R-squared:  0.03874 \n",
       "F-statistic: 7.973 on 1 and 172 DF,  p-value: 0.005309\n"
      ]
     },
     "metadata": {},
     "output_type": "display_data"
    }
   ],
   "source": [
    "# Modèle de régression linéaire pour E(MOTPROC1 | ES) par la méthode des MCO\n",
    "\n",
    "modele <- lm(motivation$MOTPROSOC1 ~ motivation$ES)\n",
    "summary(modele)"
   ]
  },
  {
   "cell_type": "code",
   "execution_count": 71,
   "metadata": {},
   "outputs": [
    {
     "data": {
      "text/html": [
       "5.82214179310345"
      ],
      "text/latex": [
       "5.82214179310345"
      ],
      "text/markdown": [
       "5.82214179310345"
      ],
      "text/plain": [
       "[1] 5.822142"
      ]
     },
     "metadata": {},
     "output_type": "display_data"
    }
   ],
   "source": [
    "# Moyenne de la motivation prosociale à l’embauche des travailleurs engagés depuis \n",
    "# huit mois en entreprises sociales\n",
    "\n",
    "mean(motivation$MOTPROSOC0[motivation$ES == 1])"
   ]
  },
  {
   "cell_type": "code",
   "execution_count": 84,
   "metadata": {},
   "outputs": [
    {
     "data": {
      "text/html": [
       "5.729166671875"
      ],
      "text/latex": [
       "5.729166671875"
      ],
      "text/markdown": [
       "5.729166671875"
      ],
      "text/plain": [
       "[1] 5.729167"
      ]
     },
     "metadata": {},
     "output_type": "display_data"
    }
   ],
   "source": [
    "# Moyenne de la motivation prosociale à l’embauche des travailleurs en entreprises lucratives\n",
    "\n",
    "mean(motivation$MOTPROSOC0[motivation$ES == 0])"
   ]
  },
  {
   "cell_type": "code",
   "execution_count": 85,
   "metadata": {},
   "outputs": [
    {
     "data": {
      "text/html": [
       "0.147069737215909"
      ],
      "text/latex": [
       "0.147069737215909"
      ],
      "text/markdown": [
       "0.147069737215909"
      ],
      "text/plain": [
       "[1] 0.1470697"
      ]
     },
     "metadata": {},
     "output_type": "display_data"
    }
   ],
   "source": [
    "# Différence de ces moyennes\n",
    "\n",
    "mean(motivation$MOTPROSOC0[motivation$ES == 1]) - mean(motivation$MOTPROSOC0[motivation$ES == 0])"
   ]
  },
  {
   "cell_type": "code",
   "execution_count": null,
   "metadata": {},
   "outputs": [],
   "source": []
  },
  {
   "cell_type": "code",
   "execution_count": null,
   "metadata": {},
   "outputs": [],
   "source": []
  },
  {
   "cell_type": "code",
   "execution_count": null,
   "metadata": {},
   "outputs": [],
   "source": []
  },
  {
   "cell_type": "code",
   "execution_count": null,
   "metadata": {},
   "outputs": [],
   "source": []
  }
 ],
 "metadata": {
  "kernelspec": {
   "display_name": "R",
   "language": "R",
   "name": "ir"
  },
  "language_info": {
   "codemirror_mode": "r",
   "file_extension": ".r",
   "mimetype": "text/x-r-source",
   "name": "R",
   "pygments_lexer": "r",
   "version": "3.6.1"
  }
 },
 "nbformat": 4,
 "nbformat_minor": 4
}
