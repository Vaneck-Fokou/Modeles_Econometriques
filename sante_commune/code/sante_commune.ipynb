{
 "cells": [
  {
   "cell_type": "markdown",
   "metadata": {},
   "source": [
    "<div class = \"alert alert-info\"> <h2 align = center> Longue vie aux plus riches ? </h2> </div>"
   ]
  },
  {
   "cell_type": "markdown",
   "metadata": {},
   "source": [
    "Nous nous interressons à l'état de santé des populations des communes de la région wallonne en Belgique. Notamment aux facteurs pouvant déterminer leur état de santé, telque le revenu par habitant, le niveau d'éducation, le niveau d'emploi, la pollution, ...\n",
    "Plus particulièrement, nous éssaierons de voir l'influence du revenu sur l'état de santé des habitants des communes. \n",
    "\n",
    "\n",
    "L'intéret de ce travail vient de l'indicateur économique IDH (Indice de Développement Humain) qui dépend des critères tel que la santé, l'éducation, le revenu. "
   ]
  },
  {
   "cell_type": "markdown",
   "metadata": {},
   "source": [
    "<h3> <font color = red> <u> Description des données </u> </font> </h3>"
   ]
  },
  {
   "cell_type": "markdown",
   "metadata": {},
   "source": [
    "Les données que nous utiliserons ont été receuilli sur le site [cytisecommunes](http://www.cytisecommunes.cytise.be/). \n",
    "\n",
    "Ce jeu de données contient des informations recueillies au niveau des 262 communes de la région de Wallonne en Belgique. La [description des variables](https://courses.edx.org/assets/courseware/v1/82a1a025dfa69fe811464d04330c031c/asset-v1:LouvainX+Louv14x+1T2021+type@asset+block/CYTISE_DES.pdf) est la suivante: \n",
    "\n",
    "- Y = POURC_TB_SANTE = pourcentage des individus qui se déclaraient être en très bonne santé au sein de la commune, en 2001.\n",
    "- REVMED_MEUROS = revenu médian au sein de la commune en 2001 et en milliers d’euros.\n",
    "- POURC_DIP_ENS_SUP = pourcentage de diplômés de l’enseignement supérieur au sein de la commune en 2001.\n",
    "- TXEMPLOI_POURC = taux d’emploi (pourcentage de personnes disposant d'un emploi parmi celles en âge de travailler, entre 15 à 64 ans) au sein de la commune en 2001.\n",
    "- POURC_MEN_MONOP_FEM = pourcentage de ménages monoparentaux féminins au sein de la commune en 2001.\n",
    "- POURC_GROSMENAGESMIN5 = pourcentage d'individus vivant en gros ménages (taille 5 et plus) au sein de la commune en 2001.\n",
    "- POURC_ELEVES_ETUDIANTS = pourcentage d'élèves ou d’étudiants en au sein de la commune 2001.\n",
    "- POURC_PREPEN_PENS = pourcentage de personnes prépensionnées ou pensionnées au sein de la commune en 2001.\n",
    "- POURC_POPU_VEUVE = pourcentage de personnes veuves au sein de la commune en 2001.\n",
    "- POURC_ETRANG_NES_ETRANG = pourcentage d'étrangers nés à l'étranger au sein de la commune en 2001.\n",
    "- OXYDEAZOTE_TONNE_KM2 = tonne d’oxyde d’azote par kilomètre carré au sein de la commune en 1996.\n",
    "- VALMHAB_MEUROS = valeur moyenne des maisons d'habitation de la commune en 2001 et en milliers d’euros."
   ]
  },
  {
   "cell_type": "markdown",
   "metadata": {},
   "source": [
    "<h3> <font color = red> <u> Analyse exploratoire des données </u> </font> </h3>"
   ]
  },
  {
   "cell_type": "code",
   "execution_count": 9,
   "metadata": {},
   "outputs": [],
   "source": [
    "# chargement des packages \n",
    "library(readxl)\n",
    "\n",
    "# Options d'affichage de grahiques\n",
    "options(repr.plot.height = 4, repr.plot.width = 6, repr.plot.res = 130)"
   ]
  },
  {
   "cell_type": "code",
   "execution_count": 4,
   "metadata": {},
   "outputs": [],
   "source": [
    "# Importation des données\n",
    "\n",
    "data <- read_excel(\"../data/CYTISE.xlsx\")"
   ]
  },
  {
   "cell_type": "code",
   "execution_count": 5,
   "metadata": {},
   "outputs": [
    {
     "data": {
      "text/html": [
       "<table>\n",
       "<thead><tr><th scope=col>COMMUNES</th><th scope=col>POURC_TB_SANTE</th><th scope=col>REVMED_MEUROS</th><th scope=col>POURC_DIP_ENS_SUP</th><th scope=col>TXEMPLOI_POURC</th><th scope=col>POURC_MEN_MONOP_FEM</th><th scope=col>POURC_GROSMENAGESMIN5</th><th scope=col>POURC_ELEVES_ETUDIANTS</th><th scope=col>POURC_PREPEN_PENS</th><th scope=col>POURC_POPU_VEUVE</th><th scope=col>POURC_ETRANG_NES_ETRANG</th><th scope=col>OXYDEAZOTE_TONNE_KM2</th><th scope=col>VALMHAB_MEUROS</th></tr></thead>\n",
       "<tbody>\n",
       "\t<tr><td>Chaumont-Gistoux</td><td>41.8386         </td><td>23.316          </td><td>41.9033         </td><td>64.3801         </td><td>7.28142         </td><td>47.0697         </td><td>22.3211         </td><td>4.35323         </td><td>4.79146         </td><td>3.66634         </td><td>1.0             </td><td>100.3160        </td></tr>\n",
       "\t<tr><td>Neupré          </td><td>35.6797         </td><td>23.258          </td><td>36.6486         </td><td>63.4485         </td><td>7.93779         </td><td>50.0000         </td><td>19.4591         </td><td>3.79235         </td><td>6.09148         </td><td>1.87110         </td><td>2.0             </td><td> 87.0169        </td></tr>\n",
       "\t<tr><td>Olne            </td><td>36.3074         </td><td>22.899          </td><td>34.7601         </td><td>65.1039         </td><td>7.22461         </td><td>49.8138         </td><td>20.3237         </td><td>4.35129         </td><td>5.17516         </td><td>2.09660         </td><td>1.3             </td><td>102.4110        </td></tr>\n",
       "\t<tr><td>Lasne           </td><td>45.1820         </td><td>22.839          </td><td>47.9667         </td><td>58.3986         </td><td>7.61809         </td><td>46.0355         </td><td>20.9750         </td><td>3.98649         </td><td>4.89218         </td><td>3.63796         </td><td>1.4             </td><td>129.6560        </td></tr>\n",
       "\t<tr><td>La Hulpe        </td><td>36.9630         </td><td>22.825          </td><td>42.2760         </td><td>58.4790         </td><td>8.81405         </td><td>42.4079         </td><td>19.7510         </td><td>3.44926         </td><td>5.78842         </td><td>3.74964         </td><td>2.0             </td><td>129.1550        </td></tr>\n",
       "\t<tr><td>Rixensart       </td><td>37.7060         </td><td>22.716          </td><td>41.8608         </td><td>60.4638         </td><td>8.58672         </td><td>45.7041         </td><td>19.9103         </td><td>4.24548         </td><td>6.39850         </td><td>3.55005         </td><td>2.5             </td><td>131.1250        </td></tr>\n",
       "</tbody>\n",
       "</table>\n"
      ],
      "text/latex": [
       "\\begin{tabular}{r|lllllllllllll}\n",
       " COMMUNES & POURC\\_TB\\_SANTE & REVMED\\_MEUROS & POURC\\_DIP\\_ENS\\_SUP & TXEMPLOI\\_POURC & POURC\\_MEN\\_MONOP\\_FEM & POURC\\_GROSMENAGESMIN5 & POURC\\_ELEVES\\_ETUDIANTS & POURC\\_PREPEN\\_PENS & POURC\\_POPU\\_VEUVE & POURC\\_ETRANG\\_NES\\_ETRANG & OXYDEAZOTE\\_TONNE\\_KM2 & VALMHAB\\_MEUROS\\\\\n",
       "\\hline\n",
       "\t Chaumont-Gistoux & 41.8386          & 23.316           & 41.9033          & 64.3801          & 7.28142          & 47.0697          & 22.3211          & 4.35323          & 4.79146          & 3.66634          & 1.0              & 100.3160        \\\\\n",
       "\t Neupré           & 35.6797          & 23.258           & 36.6486          & 63.4485          & 7.93779          & 50.0000          & 19.4591          & 3.79235          & 6.09148          & 1.87110          & 2.0              &  87.0169        \\\\\n",
       "\t Olne             & 36.3074          & 22.899           & 34.7601          & 65.1039          & 7.22461          & 49.8138          & 20.3237          & 4.35129          & 5.17516          & 2.09660          & 1.3              & 102.4110        \\\\\n",
       "\t Lasne            & 45.1820          & 22.839           & 47.9667          & 58.3986          & 7.61809          & 46.0355          & 20.9750          & 3.98649          & 4.89218          & 3.63796          & 1.4              & 129.6560        \\\\\n",
       "\t La Hulpe         & 36.9630          & 22.825           & 42.2760          & 58.4790          & 8.81405          & 42.4079          & 19.7510          & 3.44926          & 5.78842          & 3.74964          & 2.0              & 129.1550        \\\\\n",
       "\t Rixensart        & 37.7060          & 22.716           & 41.8608          & 60.4638          & 8.58672          & 45.7041          & 19.9103          & 4.24548          & 6.39850          & 3.55005          & 2.5              & 131.1250        \\\\\n",
       "\\end{tabular}\n"
      ],
      "text/markdown": [
       "\n",
       "| COMMUNES | POURC_TB_SANTE | REVMED_MEUROS | POURC_DIP_ENS_SUP | TXEMPLOI_POURC | POURC_MEN_MONOP_FEM | POURC_GROSMENAGESMIN5 | POURC_ELEVES_ETUDIANTS | POURC_PREPEN_PENS | POURC_POPU_VEUVE | POURC_ETRANG_NES_ETRANG | OXYDEAZOTE_TONNE_KM2 | VALMHAB_MEUROS |\n",
       "|---|---|---|---|---|---|---|---|---|---|---|---|---|\n",
       "| Chaumont-Gistoux | 41.8386          | 23.316           | 41.9033          | 64.3801          | 7.28142          | 47.0697          | 22.3211          | 4.35323          | 4.79146          | 3.66634          | 1.0              | 100.3160         |\n",
       "| Neupré           | 35.6797          | 23.258           | 36.6486          | 63.4485          | 7.93779          | 50.0000          | 19.4591          | 3.79235          | 6.09148          | 1.87110          | 2.0              |  87.0169         |\n",
       "| Olne             | 36.3074          | 22.899           | 34.7601          | 65.1039          | 7.22461          | 49.8138          | 20.3237          | 4.35129          | 5.17516          | 2.09660          | 1.3              | 102.4110         |\n",
       "| Lasne            | 45.1820          | 22.839           | 47.9667          | 58.3986          | 7.61809          | 46.0355          | 20.9750          | 3.98649          | 4.89218          | 3.63796          | 1.4              | 129.6560         |\n",
       "| La Hulpe         | 36.9630          | 22.825           | 42.2760          | 58.4790          | 8.81405          | 42.4079          | 19.7510          | 3.44926          | 5.78842          | 3.74964          | 2.0              | 129.1550         |\n",
       "| Rixensart        | 37.7060          | 22.716           | 41.8608          | 60.4638          | 8.58672          | 45.7041          | 19.9103          | 4.24548          | 6.39850          | 3.55005          | 2.5              | 131.1250         |\n",
       "\n"
      ],
      "text/plain": [
       "  COMMUNES         POURC_TB_SANTE REVMED_MEUROS POURC_DIP_ENS_SUP\n",
       "1 Chaumont-Gistoux 41.8386        23.316        41.9033          \n",
       "2 Neupré           35.6797        23.258        36.6486          \n",
       "3 Olne             36.3074        22.899        34.7601          \n",
       "4 Lasne            45.1820        22.839        47.9667          \n",
       "5 La Hulpe         36.9630        22.825        42.2760          \n",
       "6 Rixensart        37.7060        22.716        41.8608          \n",
       "  TXEMPLOI_POURC POURC_MEN_MONOP_FEM POURC_GROSMENAGESMIN5\n",
       "1 64.3801        7.28142             47.0697              \n",
       "2 63.4485        7.93779             50.0000              \n",
       "3 65.1039        7.22461             49.8138              \n",
       "4 58.3986        7.61809             46.0355              \n",
       "5 58.4790        8.81405             42.4079              \n",
       "6 60.4638        8.58672             45.7041              \n",
       "  POURC_ELEVES_ETUDIANTS POURC_PREPEN_PENS POURC_POPU_VEUVE\n",
       "1 22.3211                4.35323           4.79146         \n",
       "2 19.4591                3.79235           6.09148         \n",
       "3 20.3237                4.35129           5.17516         \n",
       "4 20.9750                3.98649           4.89218         \n",
       "5 19.7510                3.44926           5.78842         \n",
       "6 19.9103                4.24548           6.39850         \n",
       "  POURC_ETRANG_NES_ETRANG OXYDEAZOTE_TONNE_KM2 VALMHAB_MEUROS\n",
       "1 3.66634                 1.0                  100.3160      \n",
       "2 1.87110                 2.0                   87.0169      \n",
       "3 2.09660                 1.3                  102.4110      \n",
       "4 3.63796                 1.4                  129.6560      \n",
       "5 3.74964                 2.0                  129.1550      \n",
       "6 3.55005                 2.5                  131.1250      "
      ]
     },
     "metadata": {},
     "output_type": "display_data"
    }
   ],
   "source": [
    "# Appercu des premières lignes du jeu de données\n",
    "\n",
    "head(data)"
   ]
  },
  {
   "cell_type": "code",
   "execution_count": 6,
   "metadata": {},
   "outputs": [
    {
     "data": {
      "text/plain": [
       "   COMMUNES         POURC_TB_SANTE  REVMED_MEUROS   POURC_DIP_ENS_SUP\n",
       " Length:262         Min.   :22.89   Min.   :13.55   Min.   : 9.197   \n",
       " Class :character   1st Qu.:27.44   1st Qu.:17.34   1st Qu.:17.507   \n",
       " Mode  :character   Median :30.08   Median :18.55   Median :20.684   \n",
       "                    Mean   :30.46   Mean   :18.59   Mean   :22.070   \n",
       "                    3rd Qu.:33.35   3rd Qu.:19.95   3rd Qu.:25.062   \n",
       "                    Max.   :45.18   Max.   :23.32   Max.   :47.967   \n",
       " TXEMPLOI_POURC  POURC_MEN_MONOP_FEM POURC_GROSMENAGESMIN5\n",
       " Min.   :42.18   Min.   : 4.732      Min.   :32.37        \n",
       " 1st Qu.:56.79   1st Qu.: 6.906      1st Qu.:43.66        \n",
       " Median :60.84   Median : 7.774      Median :45.44        \n",
       " Mean   :59.68   Mean   : 7.916      Mean   :45.45        \n",
       " 3rd Qu.:63.43   3rd Qu.: 8.814      3rd Qu.:47.43        \n",
       " Max.   :69.86   Max.   :12.454      Max.   :54.15        \n",
       " POURC_ELEVES_ETUDIANTS POURC_PREPEN_PENS POURC_POPU_VEUVE\n",
       " Min.   :15.06          Min.   : 2.055    Min.   : 4.145  \n",
       " 1st Qu.:17.65          1st Qu.: 4.259    1st Qu.: 6.684  \n",
       " Median :18.76          Median : 5.165    Median : 7.526  \n",
       " Mean   :18.79          Mean   : 5.565    Mean   : 7.523  \n",
       " 3rd Qu.:19.81          3rd Qu.: 6.450    3rd Qu.: 8.253  \n",
       " Max.   :23.79          Max.   :11.335    Max.   :10.436  \n",
       " POURC_ETRANG_NES_ETRANG OXYDEAZOTE_TONNE_KM2 VALMHAB_MEUROS  \n",
       " Min.   : 0.8806         Min.   : 0.500       Min.   : 43.33  \n",
       " 1st Qu.: 1.5019         1st Qu.: 0.500       1st Qu.: 65.52  \n",
       " Median : 1.8440         Median : 1.100       Median : 75.65  \n",
       " Mean   : 2.1309         Mean   : 2.166       Mean   : 78.48  \n",
       " 3rd Qu.: 2.3116         3rd Qu.: 2.275       3rd Qu.: 87.10  \n",
       " Max.   :11.9575         Max.   :15.000       Max.   :131.12  "
      ]
     },
     "metadata": {},
     "output_type": "display_data"
    }
   ],
   "source": [
    "# quelques statistiques descriptives sur les variables \n",
    "\n",
    "summary(data)"
   ]
  },
  {
   "cell_type": "code",
   "execution_count": 7,
   "metadata": {},
   "outputs": [],
   "source": [
    "# Importation des variables du jeu de données dans l'environnement de travail\n",
    "\n",
    "attach(data)"
   ]
  },
  {
   "cell_type": "code",
   "execution_count": 10,
   "metadata": {},
   "outputs": [
    {
     "data": {
      "image/png": "[encoded data removed]",
      "text/plain": [
       "Plot with title \"Histogram of POURC_TB_SANTE\""
      ]
     },
     "metadata": {},
     "output_type": "display_data"
    }
   ],
   "source": [
    "# Histogramme de la variable POURC_TB_SANTE\n",
    "\n",
    "hist(POURC_TB_SANTE)"
   ]
  },
  {
   "cell_type": "markdown",
   "metadata": {},
   "source": [
    "On note une assymétrie positive de de cette distribution  puisque l'extrémité gauche est plus courte que l'extrémité droite. La classe modale est comprise entre 28% et 30% environ."
   ]
  },
  {
   "cell_type": "code",
   "execution_count": 11,
   "metadata": {},
   "outputs": [
    {
     "data": {
      "image/png": "[encoded data removed]",
      "text/plain": [
       "Plot with title \"Histogram of REVMED_MEUROS\""
      ]
     },
     "metadata": {},
     "output_type": "display_data"
    }
   ],
   "source": [
    "# histogrammme du revenu médian \n",
    "\n",
    "hist(REVMED_MEUROS)"
   ]
  },
  {
   "cell_type": "markdown",
   "metadata": {},
   "source": [
    "La distribution du revenu médian ressemble à une distribution normale avec un mode compris entre 18000 et 19000 euros."
   ]
  },
  {
   "cell_type": "code",
   "execution_count": 12,
   "metadata": {},
   "outputs": [
    {
     "data": {
      "image/png": "[encoded data removed]",
      "text/plain": [
       "Plot with title \"% TB santé vs revenu médian\""
      ]
     },
     "metadata": {},
     "output_type": "display_data"
    }
   ],
   "source": [
    "# nuage de points entre le pourcentage de personnes se déclarant en très bonne santé et le revenu médian\n",
    "\n",
    "plot(REVMED_MEUROS, POURC_TB_SANTE, xlab = \"revenu médian\", ylab = \"% TB santé\", main = \"% TB santé vs revenu médian\")"
   ]
  },
  {
   "cell_type": "markdown",
   "metadata": {},
   "source": [
    "Sur ce nuage de points, on peut remarquer que lorsque le revenu médian augmente, le pourcentege de personnes en bonne santé a tendence à augmenter. "
   ]
  },
  {
   "cell_type": "code",
   "execution_count": 14,
   "metadata": {},
   "outputs": [
    {
     "data": {
      "image/png": "[encoded data removed]",
      "text/plain": [
       "Plot with title \"% TB santé vs revenu médian\""
      ]
     },
     "metadata": {},
     "output_type": "display_data"
    }
   ],
   "source": [
    "# nuage de points avec droite de régression\n",
    "\n",
    "plot(REVMED_MEUROS, POURC_TB_SANTE, xlab = \"revenu médian\", ylab = \"% TB santé\", main = \"% TB santé vs revenu médian\")\n",
    "abline(lm(POURC_TB_SANTE ~ REVMED_MEUROS), col = \"red\")"
   ]
  },
  {
   "cell_type": "markdown",
   "metadata": {},
   "source": [
    "On constate que la pente de la droite de régression est positive, ce qui confirme le lien positif entre revenu et état de santé. "
   ]
  },
  {
   "cell_type": "code",
   "execution_count": 15,
   "metadata": {},
   "outputs": [
    {
     "data": {
      "text/plain": [
       "\n",
       "Call:\n",
       "lm(formula = POURC_TB_SANTE ~ REVMED_MEUROS)\n",
       "\n",
       "Residuals:\n",
       "    Min      1Q  Median      3Q     Max \n",
       "-6.6503 -2.1483 -0.3228  1.9634  9.1607 \n",
       "\n",
       "Coefficients:\n",
       "              Estimate Std. Error t value Pr(>|t|)    \n",
       "(Intercept)    5.07219    1.69275   2.996    0.003 ** \n",
       "REVMED_MEUROS  1.36597    0.09054  15.086   <2e-16 ***\n",
       "---\n",
       "Signif. codes:  0 '***' 0.001 '**' 0.01 '*' 0.05 '.' 0.1 ' ' 1\n",
       "\n",
       "Residual standard error: 2.941 on 260 degrees of freedom\n",
       "Multiple R-squared:  0.4668,\tAdjusted R-squared:  0.4647 \n",
       "F-statistic: 227.6 on 1 and 260 DF,  p-value: < 2.2e-16\n"
      ]
     },
     "metadata": {},
     "output_type": "display_data"
    }
   ],
   "source": [
    "# information du modèle \n",
    "\n",
    "modele_rls <- lm(POURC_TB_SANTE ~ REVMED_MEUROS)\n",
    "summary(modele_rls)"
   ]
  },
  {
   "cell_type": "markdown",
   "metadata": {},
   "source": [
    "On peut voir que les estimations de paramètres obtenues sont très significatives. La pente de 1.3639 signifie que si le revenu augmente d'une unité (c'est à dire de 1000 euros), on doit s'attendre à ce que le pourcentege de personnes en bonne santé augmente de 1.3639 point de pourcentage. \n",
    "\n",
    "\n",
    "Analysons à présent le modèle de regression linéaire multiple entre le revenu et toutes les variables explicatives de notre jeu de données."
   ]
  },
  {
   "cell_type": "code",
   "execution_count": 23,
   "metadata": {},
   "outputs": [
    {
     "data": {
      "text/plain": [
       "\n",
       "Call:\n",
       "lm(formula = POURC_TB_SANTE ~ ., data = data[, 2:13])\n",
       "\n",
       "Residuals:\n",
       "    Min      1Q  Median      3Q     Max \n",
       "-3.8178 -0.8901 -0.0314  0.8620  6.4720 \n",
       "\n",
       "Coefficients:\n",
       "                         Estimate Std. Error t value Pr(>|t|)    \n",
       "(Intercept)              7.842149   4.425138   1.772 0.077582 .  \n",
       "REVMED_MEUROS            0.207670   0.085735   2.422 0.016138 *  \n",
       "POURC_DIP_ENS_SUP        0.155859   0.026107   5.970 8.10e-09 ***\n",
       "TXEMPLOI_POURC           0.155611   0.044156   3.524 0.000505 ***\n",
       "POURC_MEN_MONOP_FEM     -0.096004   0.102132  -0.940 0.348125    \n",
       "POURC_GROSMENAGESMIN5   -0.225267   0.036364  -6.195 2.39e-09 ***\n",
       "POURC_ELEVES_ETUDIANTS   1.084618   0.086161  12.588  < 2e-16 ***\n",
       "POURC_PREPEN_PENS       -0.392719   0.150185  -2.615 0.009468 ** \n",
       "POURC_POPU_VEUVE        -0.196743   0.138880  -1.417 0.157832    \n",
       "POURC_ETRANG_NES_ETRANG  0.020168   0.089163   0.226 0.821238    \n",
       "OXYDEAZOTE_TONNE_KM2     0.035485   0.040731   0.871 0.384485    \n",
       "VALMHAB_MEUROS           0.002454   0.009779   0.251 0.802032    \n",
       "---\n",
       "Signif. codes:  0 '***' 0.001 '**' 0.01 '*' 0.05 '.' 0.1 ' ' 1\n",
       "\n",
       "Residual standard error: 1.466 on 250 degrees of freedom\n",
       "Multiple R-squared:  0.8727,\tAdjusted R-squared:  0.8671 \n",
       "F-statistic: 155.8 on 11 and 250 DF,  p-value: < 2.2e-16\n"
      ]
     },
     "metadata": {},
     "output_type": "display_data"
    }
   ],
   "source": [
    "# modèle de regression linéaire multiple\n",
    "\n",
    "modele_rlm <- lm(POURC_TB_SANTE ~ ., data = data[, 2:13])\n",
    "summary(modele_rlm)"
   ]
  },
  {
   "cell_type": "markdown",
   "metadata": {},
   "source": [
    "Ces résultats nous montre que nous avons six variables qui sont significatives dans notre modèle. Ce sont les variables: revenu médian, pourcentege de diplomé, taux d'emploi, pourcentege de gros ménage, le pourcentege d'élève ou d'étudiant, le pourcentage de personnes prépensionnées ou pensionnées. \n",
    "\n",
    "Le coéfficient du revenu médian dans ce modèle est positif ce qui est en accord avec le fait que les personnes ayant un revenu élevé ont tendance à être en bonne santé par rapport aux autres. Cependant ici, il est de 0.207, bien inférieur à la valeur obtenue dans le modèle précédent (1.365). Donc lorsque l'on ajoute de nouvelles variables, le revenu n'a plus une très grande influence sur l'état de santé des habitants des communes. \n",
    "\n",
    "A travers la positivité des coéfficients de leurs variables, on voit que les personnes étant scolarisé ou ayant été scolarisé et ayant un emploi ont plus tendance à déclarer qu'elles sont en bonne santé. \n",
    "\n",
    "Dans ce modèle, c'est La variable `POURC_ELEVES_ETUDIANTS` (coefficient = 1.084) représentant le pourcentage d'élèves et d'étudiant dans la commune apparait comme la variable qui influence le plus le pourcentage de personnes se déclarant en très bonne santé. On peut donc considérer que ce sont les élèves et les étudiant qui ont plus tendance à se déclarer en bonne santé.\n",
    "\n",
    "On note également que les personnes vivant dans de gros ménages ont plus tendance à déclarer ne pas être en bonne santé; il en est de même pour les personnes prépensionnées ou pensionnées. \n",
    "\n",
    "Une autre remarque étonnante est le fait que le niveau de pollution dans la commune représentée par la variable `OXYDEAZOTE_TONNE_KM2` n'est pas important statistiquement pour notre modèle (non significatif). Ces variables non significatives peuvent être retirées du modèle.\n",
    "\n",
    "On remarque aussi que la valeur de R^2 de ce modèle est bien plus grande que celle du modèle précédent; donc ce modèle est meilleur. Les variables incluses dans ce modèle expliquent donc mieux l'état de santé des habitants des communes de la régiion Wallonne."
   ]
  },
  {
   "cell_type": "code",
   "execution_count": 24,
   "metadata": {},
   "outputs": [
    {
     "data": {
      "text/plain": [
       "\n",
       "Call:\n",
       "lm(formula = POURC_TB_SANTE ~ REVMED_MEUROS + POURC_DIP_ENS_SUP + \n",
       "    TXEMPLOI_POURC + POURC_GROSMENAGESMIN5 + POURC_ELEVES_ETUDIANTS + \n",
       "    POURC_PREPEN_PENS, data = data[, 2:13])\n",
       "\n",
       "Residuals:\n",
       "    Min      1Q  Median      3Q     Max \n",
       "-3.4677 -0.9889 -0.0183  0.8811  6.6626 \n",
       "\n",
       "Coefficients:\n",
       "                       Estimate Std. Error t value Pr(>|t|)    \n",
       "(Intercept)             4.53498    3.32514   1.364 0.173819    \n",
       "REVMED_MEUROS           0.25073    0.08144   3.079 0.002306 ** \n",
       "POURC_DIP_ENS_SUP       0.15608    0.02267   6.884 4.50e-11 ***\n",
       "TXEMPLOI_POURC          0.14983    0.04245   3.530 0.000493 ***\n",
       "POURC_GROSMENAGESMIN5  -0.22343    0.03582  -6.238 1.83e-09 ***\n",
       "POURC_ELEVES_ETUDIANTS  1.15439    0.07097  16.266  < 2e-16 ***\n",
       "POURC_PREPEN_PENS      -0.47819    0.12464  -3.837 0.000157 ***\n",
       "---\n",
       "Signif. codes:  0 '***' 0.001 '**' 0.01 '*' 0.05 '.' 0.1 ' ' 1\n",
       "\n",
       "Residual standard error: 1.465 on 255 degrees of freedom\n",
       "Multiple R-squared:  0.8703,\tAdjusted R-squared:  0.8673 \n",
       "F-statistic: 285.2 on 6 and 255 DF,  p-value: < 2.2e-16\n"
      ]
     },
     "metadata": {},
     "output_type": "display_data"
    }
   ],
   "source": [
    "# Modele sans variables non-significatives \n",
    "\n",
    "modele <- lm(POURC_TB_SANTE ~ REVMED_MEUROS + POURC_DIP_ENS_SUP + TXEMPLOI_POURC + POURC_GROSMENAGESMIN5 + POURC_ELEVES_ETUDIANTS + POURC_PREPEN_PENS, data = data[, 2:13])\n",
    "summary(modele)"
   ]
  },
  {
   "cell_type": "markdown",
   "metadata": {},
   "source": [
    "Dans ce nouveau modèle, les variables explicatives sont beaucoup plus significatives que dans le modèle précédent. Les influences restent cependant du même ordre. La valeur de R^2 ici est légèrement inférieure à celle obtenue préceédemment."
   ]
  },
  {
   "cell_type": "code",
   "execution_count": null,
   "metadata": {},
   "outputs": [],
   "source": []
  },
  {
   "cell_type": "code",
   "execution_count": null,
   "metadata": {},
   "outputs": [],
   "source": []
  },
  {
   "cell_type": "code",
   "execution_count": null,
   "metadata": {},
   "outputs": [],
   "source": []
  },
  {
   "cell_type": "code",
   "execution_count": null,
   "metadata": {},
   "outputs": [],
   "source": []
  }
 ],
 "metadata": {
  "kernelspec": {
   "display_name": "R",
   "language": "R",
   "name": "ir"
  },
  "language_info": {
   "codemirror_mode": "r",
   "file_extension": ".r",
   "mimetype": "text/x-r-source",
   "name": "R",
   "pygments_lexer": "r",
   "version": "3.6.1"
  }
 },
 "nbformat": 4,
 "nbformat_minor": 4
}
