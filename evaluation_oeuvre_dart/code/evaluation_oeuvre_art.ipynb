{
 "cells": [
  {
   "cell_type": "markdown",
   "metadata": {},
   "source": [
    "<div class = \"alert alert-info\"> <h2 align = center> La prédiction ... du grand art ! </h2> \n",
    "    <h3 align = center> <font color = grey> Evaluation des oeuvres d'art de Picasso </font> </h3>\n",
    "</div>"
   ]
  },
  {
   "cell_type": "markdown",
   "metadata": {},
   "source": [
    "Le prix de vente d'une oeuvre d'art correspond t-il à sa valeur catalogue ? Autrement dit, les valeurs que l'on trouve dans les catalogues de vente aux enchères sont-elles de bon prédicteurs de prix réalisés lors de la vente ? Nous allons essayer de repondre à cette question en nous basant sur les données de ventes de gravures de Pablo Picasso, contenant la fourchette de prix estimée dans le catalogue *Arcurial 2009*, ainsi que d'autres déterminant utilisés par les experts dans la valorisation des oeuvres d'art tels que la taille de l'oeuvre et son âge.  "
   ]
  },
  {
   "cell_type": "markdown",
   "metadata": {},
   "source": [
    "<h3> <font color = red> <u> Description des données </u> </font> </h3>"
   ]
  },
  {
   "cell_type": "markdown",
   "metadata": {},
   "source": [
    "Notre jeu de données contient 1529 transactions des oeuvres du célèbre peintre espagnol Pablo Picasso entre 2015 et 2017. Il contient 7 variables qui sont: \n",
    "\n",
    "- date: la date de la transaction\n",
    "- bas: le prix le plus bas prédit dans le catalogue (en milier d'euro)\n",
    "- haut: le prix le plus haut prédit dans le catalogue (en milier d'euro)\n",
    "- prix: le prix réalisé lors de la transaction (en milier d'euro)\n",
    "- hauteur: la hauteur de l'oeuvre en cm\n",
    "- largeur: la largeur de l'oeuvre en cm\n",
    "- age: l'age de Picasso au moment de la réalisation de l'oeuvre."
   ]
  },
  {
   "cell_type": "markdown",
   "metadata": {},
   "source": [
    "<h3> <font color = red> <u> Analyse des données </u> </font> </h3>"
   ]
  },
  {
   "cell_type": "code",
   "execution_count": 2,
   "metadata": {},
   "outputs": [],
   "source": [
    "# importation des données\n",
    "\n",
    "data <- read.csv(\"../data/picasso2017.csv\")"
   ]
  },
  {
   "cell_type": "code",
   "execution_count": 3,
   "metadata": {},
   "outputs": [
    {
     "data": {
      "text/html": [
       "<table>\n",
       "<thead><tr><th scope=col>date</th><th scope=col>bas</th><th scope=col>haut</th><th scope=col>prix</th><th scope=col>hauteur</th><th scope=col>largeur</th><th scope=col>age</th></tr></thead>\n",
       "<tbody>\n",
       "\t<tr><td>12/3/2015  </td><td>400        </td><td>600        </td><td>1000       </td><td> 88.900    </td><td>63.500     </td><td>80         </td></tr>\n",
       "\t<tr><td>12/3/2015  </td><td>400        </td><td>600        </td><td>1200       </td><td> 89.535    </td><td>64.135     </td><td>80         </td></tr>\n",
       "\t<tr><td>10/21/2015 </td><td>500        </td><td>700        </td><td> 300       </td><td> 76.200    </td><td>55.880     </td><td>71         </td></tr>\n",
       "\t<tr><td>10/21/2015 </td><td>500        </td><td>700        </td><td> 300       </td><td> 55.880    </td><td>73.660     </td><td>65         </td></tr>\n",
       "\t<tr><td>1/31/2016  </td><td>500        </td><td>700        </td><td> 840       </td><td>148.590    </td><td>96.520     </td><td>88         </td></tr>\n",
       "\t<tr><td>7/9/2016   </td><td>500        </td><td>700        </td><td> 175       </td><td> 26.670    </td><td>20.955     </td><td>61         </td></tr>\n",
       "</tbody>\n",
       "</table>\n"
      ],
      "text/latex": [
       "\\begin{tabular}{r|lllllll}\n",
       " date & bas & haut & prix & hauteur & largeur & age\\\\\n",
       "\\hline\n",
       "\t 12/3/2015   & 400         & 600         & 1000        &  88.900     & 63.500      & 80         \\\\\n",
       "\t 12/3/2015   & 400         & 600         & 1200        &  89.535     & 64.135      & 80         \\\\\n",
       "\t 10/21/2015  & 500         & 700         &  300        &  76.200     & 55.880      & 71         \\\\\n",
       "\t 10/21/2015  & 500         & 700         &  300        &  55.880     & 73.660      & 65         \\\\\n",
       "\t 1/31/2016   & 500         & 700         &  840        & 148.590     & 96.520      & 88         \\\\\n",
       "\t 7/9/2016    & 500         & 700         &  175        &  26.670     & 20.955      & 61         \\\\\n",
       "\\end{tabular}\n"
      ],
      "text/markdown": [
       "\n",
       "| date | bas | haut | prix | hauteur | largeur | age |\n",
       "|---|---|---|---|---|---|---|\n",
       "| 12/3/2015   | 400         | 600         | 1000        |  88.900     | 63.500      | 80          |\n",
       "| 12/3/2015   | 400         | 600         | 1200        |  89.535     | 64.135      | 80          |\n",
       "| 10/21/2015  | 500         | 700         |  300        |  76.200     | 55.880      | 71          |\n",
       "| 10/21/2015  | 500         | 700         |  300        |  55.880     | 73.660      | 65          |\n",
       "| 1/31/2016   | 500         | 700         |  840        | 148.590     | 96.520      | 88          |\n",
       "| 7/9/2016    | 500         | 700         |  175        |  26.670     | 20.955      | 61          |\n",
       "\n"
      ],
      "text/plain": [
       "  date        bas haut prix hauteur largeur age\n",
       "1 12/3/2015   400 600  1000  88.900 63.500  80 \n",
       "2 12/3/2015   400 600  1200  89.535 64.135  80 \n",
       "3 10/21/2015  500 700   300  76.200 55.880  71 \n",
       "4 10/21/2015  500 700   300  55.880 73.660  65 \n",
       "5 1/31/2016   500 700   840 148.590 96.520  88 \n",
       "6 7/9/2016    500 700   175  26.670 20.955  61 "
      ]
     },
     "metadata": {},
     "output_type": "display_data"
    }
   ],
   "source": [
    "# Apercu des premieres lignes\n",
    "\n",
    "head(data)"
   ]
  },
  {
   "cell_type": "code",
   "execution_count": 4,
   "metadata": {},
   "outputs": [
    {
     "data": {
      "text/html": [
       "<ol class=list-inline>\n",
       "\t<li>1529</li>\n",
       "\t<li>7</li>\n",
       "</ol>\n"
      ],
      "text/latex": [
       "\\begin{enumerate*}\n",
       "\\item 1529\n",
       "\\item 7\n",
       "\\end{enumerate*}\n"
      ],
      "text/markdown": [
       "1. 1529\n",
       "2. 7\n",
       "\n",
       "\n"
      ],
      "text/plain": [
       "[1] 1529    7"
      ]
     },
     "metadata": {},
     "output_type": "display_data"
    }
   ],
   "source": [
    "# dimension du jeu de données\n",
    "\n",
    "dim(data)"
   ]
  },
  {
   "cell_type": "markdown",
   "metadata": {},
   "source": [
    "Nous allons créer une nouvelle variable représentant le prix de vente moyen prédit par le catalogue `((prix-haut + prix-bas)/2)`. Ensuite nous allons voir si ce prix moyen est un bon estimateur du prix réalisé. "
   ]
  },
  {
   "cell_type": "code",
   "execution_count": 5,
   "metadata": {},
   "outputs": [],
   "source": [
    "# création de la nouvelle variable\n",
    "\n",
    "cat <- (data$haut + data$bas)/2"
   ]
  },
  {
   "cell_type": "code",
   "execution_count": 6,
   "metadata": {},
   "outputs": [
    {
     "data": {
      "image/png": "[encoded data removed]",
      "text/plain": [
       "plot without title"
      ]
     },
     "metadata": {},
     "output_type": "display_data"
    }
   ],
   "source": [
    "# options d'affichage de graphique\n",
    "options(repr.plot.height = 4, repr.plot.width = 6, repr.plot.res = 130)\n",
    "\n",
    "# Nuage de points entre le prix moyen du catalogue et le prix réalisé.\n",
    "plot(cat, data$prix)"
   ]
  },
  {
   "cell_type": "markdown",
   "metadata": {},
   "source": [
    "On peut voir sur ce graphique que le lien entre les deux variables est positif; c'est-à-dire plus les prix moyen prédits par le catalogue augmentent, plus les prix réalisés ont tendance à augmenter. Nous constatons également qu'une grande partie des données sont concentrées à de petites valeurs et seulement un petit nombre d'observation prend de grandes valeur. La dipersion de ces grandes valeur est également plus importantes que celle des petites valeurs. L'hypothèse d'homoscédasticité n'est donc pas respectée pour ces données. On va donc travailler en logarithme (spécification log-log) avec ces données pour palier à ces problèmes."
   ]
  },
  {
   "cell_type": "code",
   "execution_count": 7,
   "metadata": {},
   "outputs": [],
   "source": [
    "# transformation des variables \n",
    "\n",
    "logprix <- log(data$prix)\n",
    "logcat <- log(cat)"
   ]
  },
  {
   "cell_type": "code",
   "execution_count": 8,
   "metadata": {},
   "outputs": [
    {
     "data": {
      "image/png": "[encoded data removed]",
      "text/plain": [
       "plot without title"
      ]
     },
     "metadata": {},
     "output_type": "display_data"
    }
   ],
   "source": [
    "# nuage de points avec les variables transformées\n",
    "\n",
    "plot(logcat, logprix)"
   ]
  },
  {
   "cell_type": "markdown",
   "metadata": {},
   "source": [
    "On voit donc sur ce nouveau graphique que la dispersion des observations semble être homogène le long de l'axe des abscisses.\n",
    "\n",
    "Avec cette tranformation de variables, nous éssayons à présent de voir si le logarithme du prix moyen estimé dans le catalogue est un bon prédicteur du logarithme du prix réalisé. "
   ]
  },
  {
   "cell_type": "code",
   "execution_count": 22,
   "metadata": {},
   "outputs": [
    {
     "data": {
      "image/png": "[encoded data removed]",
      "text/plain": [
       "plot without title"
      ]
     },
     "metadata": {},
     "output_type": "display_data"
    }
   ],
   "source": [
    "# ajout de la droite d'égalité des deux variables\n",
    "\n",
    "plot(logcat, logprix)\n",
    "abline(0, 1, col = \"green\") # 0 représente l'intercept et 1 la pente"
   ]
  },
  {
   "cell_type": "markdown",
   "metadata": {},
   "source": [
    "Cette droite d'équation `y = x` représente notre ligne de reférence que nous allons comparer avec la droite du modèle de regression linéaire. \n",
    "\n",
    "\n",
    "Nous allons par la suite regarder si les variables taille de l'oeuvre et âge de l'artisrte apportent des informations importantes dans la valorisation des oeuvres d'art au delà de la prédiction du catalogue. "
   ]
  },
  {
   "cell_type": "code",
   "execution_count": 23,
   "metadata": {},
   "outputs": [
    {
     "data": {
      "text/plain": [
       "\n",
       "Call:\n",
       "lm(formula = logprix ~ data$hauteur + data$largeur + data$age)\n",
       "\n",
       "Residuals:\n",
       "    Min      1Q  Median      3Q     Max \n",
       "-4.9037 -0.6166 -0.0436  0.6233  3.4791 \n",
       "\n",
       "Coefficients:\n",
       "               Estimate Std. Error t value Pr(>|t|)    \n",
       "(Intercept)   9.8619616  0.1456076  67.730  < 2e-16 ***\n",
       "data$hauteur -0.0006295  0.0014569  -0.432    0.666    \n",
       "data$largeur  0.0006055  0.0014914   0.406    0.685    \n",
       "data$age     -0.0143650  0.0019771  -7.266  5.9e-13 ***\n",
       "---\n",
       "Signif. codes:  0 '***' 0.001 '**' 0.01 '*' 0.05 '.' 0.1 ' ' 1\n",
       "\n",
       "Residual standard error: 1.077 on 1525 degrees of freedom\n",
       "Multiple R-squared:  0.03419,\tAdjusted R-squared:  0.03229 \n",
       "F-statistic:    18 on 3 and 1525 DF,  p-value: 1.772e-11\n"
      ]
     },
     "metadata": {},
     "output_type": "display_data"
    }
   ],
   "source": [
    "# influence des varaibles taille de l'oeuvre et age de Picasso sur le prix réalisé\n",
    "\n",
    "modele1 <- lm(logprix ~ data$hauteur + data$largeur + data$age)\n",
    "summary(modele1)"
   ]
  },
  {
   "cell_type": "markdown",
   "metadata": {},
   "source": [
    "A partir de ces résultats nous pouvons voir que les variables associées à la taille de l'oeuvre n'ont pas d'importance sur le plan statistisque dans la détermination du prix réalisé. Cependant la variable associée à l'age de Picasso est très significative. Son coefficient qui est négatif signifie que les oeuvres réalisées par Picasso dans sa jeunesse sont plus valorisées que celles qu'il a réalisées lorsqu'il était âgé. "
   ]
  },
  {
   "cell_type": "code",
   "execution_count": 25,
   "metadata": {},
   "outputs": [
    {
     "data": {
      "text/plain": [
       "\n",
       "Call:\n",
       "lm(formula = logprix ~ logcat + data$hauteur + data$largeur + \n",
       "    data$age)\n",
       "\n",
       "Residuals:\n",
       "     Min       1Q   Median       3Q      Max \n",
       "-3.06522 -0.25222 -0.03154  0.25449  1.50321 \n",
       "\n",
       "Coefficients:\n",
       "               Estimate Std. Error t value Pr(>|t|)    \n",
       "(Intercept)   3.800e-01  1.201e-01   3.164  0.00159 ** \n",
       "logcat        9.736e-01  1.081e-02  90.100  < 2e-16 ***\n",
       "data$hauteur -7.667e-04  5.794e-04  -1.323  0.18590    \n",
       "data$largeur -1.048e-05  5.931e-04  -0.018  0.98591    \n",
       "data$age      7.403e-04  8.039e-04   0.921  0.35731    \n",
       "---\n",
       "Signif. codes:  0 '***' 0.001 '**' 0.01 '*' 0.05 '.' 0.1 ' ' 1\n",
       "\n",
       "Residual standard error: 0.4284 on 1524 degrees of freedom\n",
       "Multiple R-squared:  0.8473,\tAdjusted R-squared:  0.8469 \n",
       "F-statistic:  2115 on 4 and 1524 DF,  p-value: < 2.2e-16\n"
      ]
     },
     "metadata": {},
     "output_type": "display_data"
    }
   ],
   "source": [
    "# modele avec la variable log-catalogue\n",
    "\n",
    "modele2 <- lm(logprix ~ logcat +data$hauteur + data$largeur + data$age)\n",
    "summary(modele2)"
   ]
  },
  {
   "cell_type": "markdown",
   "metadata": {},
   "source": [
    "Dans ce nouveau modèle, on remarque qu'en présence de la variable `logcat`,  la variable `age` n'est plus significative ce qui s'explique par le fait qu'elle a déjà été prise en compte dans l'estimation faite dans le catalogue. On en déduit que les variables age de Picasso et taille de l'oeuvre ne semblent pas apporter des informations au delà des informations apportées par le catalogue sur la prédiction du prix réalisé lors de la vente. \n",
    "\n",
    "\n",
    "Revenons donc à un modele simple ou le logarithme du prix moyen prédit par le catalogue est la seule variable explicative du prix réalisé."
   ]
  },
  {
   "cell_type": "code",
   "execution_count": 26,
   "metadata": {},
   "outputs": [
    {
     "data": {
      "text/plain": [
       "\n",
       "Call:\n",
       "lm(formula = logprix ~ logcat)\n",
       "\n",
       "Residuals:\n",
       "    Min      1Q  Median      3Q     Max \n",
       "-3.0820 -0.2488 -0.0336  0.2560  1.5228 \n",
       "\n",
       "Coefficients:\n",
       "            Estimate Std. Error t value Pr(>|t|)    \n",
       "(Intercept)  0.41932    0.09216    4.55  5.8e-06 ***\n",
       "logcat       0.97146    0.01059   91.76  < 2e-16 ***\n",
       "---\n",
       "Signif. codes:  0 '***' 0.001 '**' 0.01 '*' 0.05 '.' 0.1 ' ' 1\n",
       "\n",
       "Residual standard error: 0.4292 on 1527 degrees of freedom\n",
       "Multiple R-squared:  0.8465,\tAdjusted R-squared:  0.8464 \n",
       "F-statistic:  8420 on 1 and 1527 DF,  p-value: < 2.2e-16\n"
      ]
     },
     "metadata": {},
     "output_type": "display_data"
    }
   ],
   "source": [
    "# modele \n",
    "\n",
    "modele3 <- lm(logprix ~ logcat)\n",
    "summary(modele3)"
   ]
  },
  {
   "cell_type": "markdown",
   "metadata": {},
   "source": [
    "Dans ce modèle, on remarque que les coefficients estimées (intercept = 0.42 et pente = 0.97) sont assez proche de ceux de notre ligne de référence. Visualisons à présent la droite de notre modèle sur le nuage de point. "
   ]
  },
  {
   "cell_type": "code",
   "execution_count": 27,
   "metadata": {},
   "outputs": [
    {
     "data": {
      "image/png": "[encoded data removed]",
      "text/plain": [
       "plot without title"
      ]
     },
     "metadata": {},
     "output_type": "display_data"
    }
   ],
   "source": [
    "# droite du modèle \n",
    "\n",
    "plot(logcat, logprix)\n",
    "abline(0, 1, col = \"green\")\n",
    "abline(modele3, col = \"blue\")"
   ]
  },
  {
   "cell_type": "markdown",
   "metadata": {},
   "source": [
    "Nous remarquons que la droite de notre modèle de regression linéaire est assez proche de notre droite de reférence. On note qu'elle est au dessus de la droite de reférence; ce qui voudrait dire que l'espérance conditionnelle du logarithme des prix réalisés est supérieure au logarithme des prix du catalogues. \n",
    "\n",
    "\n",
    "`A partir de l'inégalité de Jensen, on a : log(E[Y/X]) > E[log(Y)/X] car la fonction logarithme est concave.\n",
    "Comme d'après les estimations de notre modèle on a E[log(Y)/X] > log(X), on obtient: log(E[Y/X]) > log(X); \n",
    "D'ou en applicant la fonction exponentielle croissante, on obtient : E[Y/X] > X.\n",
    "Ainsi, l'espérance conditionnelle des prix réalisés est supérieure à la moyenne des prix prédits par le catalogue.`\n",
    "\n",
    "\n",
    "Comme conclusion de ce résultat, nous pouvons dire que les catalogues de vente des oeuvres d'art semblent sous-estimer les prix de vente des oeuvres de Picasso, réalisés lors des ventes publiques.  "
   ]
  },
  {
   "cell_type": "code",
   "execution_count": null,
   "metadata": {},
   "outputs": [],
   "source": []
  },
  {
   "cell_type": "code",
   "execution_count": null,
   "metadata": {},
   "outputs": [],
   "source": []
  }
 ],
 "metadata": {
  "kernelspec": {
   "display_name": "R",
   "language": "R",
   "name": "ir"
  },
  "language_info": {
   "codemirror_mode": "r",
   "file_extension": ".r",
   "mimetype": "text/x-r-source",
   "name": "R",
   "pygments_lexer": "r",
   "version": "3.6.1"
  }
 },
 "nbformat": 4,
 "nbformat_minor": 4
}
